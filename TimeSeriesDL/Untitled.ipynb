{
 "cells": [
  {
   "cell_type": "code",
   "execution_count": 13,
   "metadata": {},
   "outputs": [],
   "source": [
    "import tensorflow as tf\n",
    "import numpy as np\n",
    "import pandas as pd\n",
    "import os\n",
    "import matplotlib.pyplot as plt\n",
    "import random\n",
    "import shutil\n",
    "import tensorflow.contrib.learn as tflearn\n",
    "import tensorflow.contrib.layers as tflayers\n",
    "from tensorflow.contrib.learn.python.learn import learn_runner\n",
    "import tensorflow.contrib.metrics as metrtrics\n",
    "import tensorflow.contrib.rnn as rnn"
   ]
  },
  {
   "cell_type": "code",
   "execution_count": 14,
   "metadata": {},
   "outputs": [
    {
     "data": {
      "text/plain": [
       "2000-01-31     0.487431\n",
       "2000-02-29     5.979449\n",
       "2000-03-31    -2.074205\n",
       "2000-04-30     6.478541\n",
       "2000-05-31     5.219444\n",
       "2000-06-30     9.319737\n",
       "2000-07-31     1.397562\n",
       "2000-08-31     6.557506\n",
       "2000-09-30    -1.693331\n",
       "2000-10-31    -7.533105\n",
       "2000-11-30    -8.774372\n",
       "2000-12-31    -0.678962\n",
       "2001-01-31    -8.595076\n",
       "2001-02-28   -17.789094\n",
       "2001-03-31   -20.292974\n",
       "2001-04-30   -13.224269\n",
       "2001-05-31   -20.778174\n",
       "2001-06-30   -22.980825\n",
       "2001-07-31   -31.742189\n",
       "2001-08-31   -37.544947\n",
       "2001-09-30   -32.692831\n",
       "2001-10-31   -24.952940\n",
       "2001-11-30   -32.130234\n",
       "2001-12-31   -33.804569\n",
       "2002-01-31   -29.802455\n",
       "2002-02-28   -29.694637\n",
       "2002-03-31   -33.859728\n",
       "2002-04-30   -32.619377\n",
       "2002-05-31   -24.394533\n",
       "2002-06-30   -18.728715\n",
       "                ...    \n",
       "2014-12-31   -22.858572\n",
       "2015-01-31   -30.528407\n",
       "2015-02-28   -29.395608\n",
       "2015-03-31   -38.580276\n",
       "2015-04-30   -41.637711\n",
       "2015-05-31   -34.566400\n",
       "2015-06-30   -42.215175\n",
       "2015-07-31   -42.609552\n",
       "2015-08-31   -47.548312\n",
       "2015-09-30   -49.118014\n",
       "2015-10-31   -54.755447\n",
       "2015-11-30   -56.531992\n",
       "2015-12-31   -49.713622\n",
       "2016-01-31   -49.931831\n",
       "2016-02-29   -44.960616\n",
       "2016-03-31   -48.862854\n",
       "2016-04-30   -47.835436\n",
       "2016-05-31   -50.640582\n",
       "2016-06-30   -60.130580\n",
       "2016-07-31   -51.620984\n",
       "2016-08-31   -50.679092\n",
       "2016-09-30   -53.981912\n",
       "2016-10-31   -45.657294\n",
       "2016-11-30   -43.569906\n",
       "2016-12-31   -48.450518\n",
       "2017-01-31   -56.404359\n",
       "2017-02-28   -57.135203\n",
       "2017-03-31   -49.905600\n",
       "2017-04-30   -52.100819\n",
       "2017-05-31   -61.213795\n",
       "Freq: M, Length: 209, dtype: float64"
      ]
     },
     "execution_count": 14,
     "metadata": {},
     "output_type": "execute_result"
    }
   ],
   "source": [
    "random.seed(1110)\n",
    "rng=pd.date_range(start='2000',periods=209,freq='M')\n",
    "ts=pd.Series(np.random.uniform(-10,10,size=len(rng)),rng).cumsum()\n",
    "ts"
   ]
  },
  {
   "cell_type": "code",
   "execution_count": 15,
   "metadata": {},
   "outputs": [
    {
     "data": {
      "image/png": "[encoded data removed]",
      "text/plain": [
       "<Figure size 432x288 with 1 Axes>"
      ]
     },
     "metadata": {},
     "output_type": "display_data"
    }
   ],
   "source": [
    "ts.plot(c='b',title='Example Time Series')\n",
    "plt.show()"
   ]
  },
  {
   "cell_type": "code",
   "execution_count": 23,
   "metadata": {},
   "outputs": [
    {
     "data": {
      "text/plain": [
       "209"
      ]
     },
     "execution_count": 23,
     "metadata": {},
     "output_type": "execute_result"
    }
   ],
   "source": [
    "TS=np.array(ts)\n",
    "len(TS)"
   ]
  },
  {
   "cell_type": "code",
   "execution_count": 17,
   "metadata": {},
   "outputs": [],
   "source": [
    "num_periods=20\n",
    "f_horizon=1\n",
    "\n",
    "x_data=TS[:(len(TS)-(len(TS) % num_periods))]\n",
    "x_batches=x_data.reshape(-1,20,1)"
   ]
  },
  {
   "cell_type": "code",
   "execution_count": 27,
   "metadata": {},
   "outputs": [
    {
     "data": {
      "text/plain": [
       "(200,)"
      ]
     },
     "execution_count": 27,
     "metadata": {},
     "output_type": "execute_result"
    }
   ],
   "source": [
    "x_data.shape"
   ]
  },
  {
   "cell_type": "code",
   "execution_count": 28,
   "metadata": {},
   "outputs": [
    {
     "data": {
      "text/plain": [
       "(10, 20, 1)"
      ]
     },
     "execution_count": 28,
     "metadata": {},
     "output_type": "execute_result"
    }
   ],
   "source": [
    "x_batches.shape"
   ]
  },
  {
   "cell_type": "code",
   "execution_count": 21,
   "metadata": {},
   "outputs": [],
   "source": [
    "y_data=TS[1:(len(TS)-(len(TS) % num_periods))+f_horizon]\n",
    "y_batches=y_data.reshape(-1,20,1)"
   ]
  },
  {
   "cell_type": "code",
   "execution_count": null,
   "metadata": {},
   "outputs": [],
   "source": [
    "def test_data(series.forecast,num_periods):\n",
    "    test_x_setup=TS[-(num_periods+forecast):]\n",
    "    testX=test_x_setup[:num_periods].reshape(-1,20,1)\n",
    "    testy=TS[-(num_periods):].reshape(-1,20,1)\n",
    "    return testX,testY"
   ]
  },
  {
   "cell_type": "code",
   "execution_count": 42,
   "metadata": {},
   "outputs": [
    {
     "data": {
      "text/plain": [
       "(2, 9)"
      ]
     },
     "execution_count": 42,
     "metadata": {},
     "output_type": "execute_result"
    }
   ],
   "source": [
    "ar=np.array([np.arange(1,10),np.arange(11,20)])\n",
    "ar.shape"
   ]
  }
 ],
 "metadata": {
  "kernelspec": {
   "display_name": "Python 3",
   "language": "python",
   "name": "python3"
  },
  "language_info": {
   "codemirror_mode": {
    "name": "ipython",
    "version": 3
   },
   "file_extension": ".py",
   "mimetype": "text/x-python",
   "name": "python",
   "nbconvert_exporter": "python",
   "pygments_lexer": "ipython3",
   "version": "3.6.5"
  }
 },
 "nbformat": 4,
 "nbformat_minor": 2
}
