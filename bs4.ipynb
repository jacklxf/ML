{
 "cells": [
  {
   "cell_type": "code",
   "execution_count": 2,
   "metadata": {},
   "outputs": [],
   "source": [
    "from bs4 import BeautifulSoup\n",
    "import requests\n",
    "import numpy as np\n",
    "import pandas as pd\n",
    "import re"
   ]
  },
  {
   "cell_type": "code",
   "execution_count": 16,
   "metadata": {},
   "outputs": [],
   "source": [
    "url='https://www.msn.com/en-sg/news/singapore'\n",
    "html=requests.get(url).text\n",
    "soup=BeautifulSoup(html,'lxml')"
   ]
  },
  {
   "cell_type": "code",
   "execution_count": 20,
   "metadata": {},
   "outputs": [
    {
     "name": "stdout",
     "output_type": "stream",
     "text": [
      "None\n"
     ]
    }
   ],
   "source": [
    "links=soup.find('li',{'class':'mediuma  index1'})\n",
    "print(links)"
   ]
  },
  {
   "cell_type": "code",
   "execution_count": 90,
   "metadata": {},
   "outputs": [],
   "source": [
    "url='https://www.tutorialspoint.com/python/string_strip.htm'\n",
    "html=requests.get(url).text\n",
    "soup=BeautifulSoup(html,'lxml')"
   ]
  },
  {
   "cell_type": "code",
   "execution_count": 99,
   "metadata": {},
   "outputs": [
    {
     "name": "stdout",
     "output_type": "stream",
     "text": [
      "[<div class=\"col-md-7 middle-col\">\n",
      "<h1>Python String strip() Method</h1>\n",
      "<div class=\"topgooglead\">\n",
      "<hr/>\n",
      "<div style=\"padding-bottom:5px;padding-left:10px;\">Advertisements</div>\n",
      "<script type=\"text/javascript\"><!--\n",
      "google_ad_client = \"pub-7133395778201029\";\n",
      "google_ad_width = 468;\n",
      "google_ad_height = 60;\n",
      "google_ad_format = \"468x60_as\";\n",
      "google_ad_type = \"image\";\n",
      "google_ad_channel = \"\";\n",
      "//--></script>\n",
      "<script src=\"https://pagead2.googlesyndication.com/pagead/show_ads.js\" type=\"text/javascript\">\n",
      "</script>\n",
      "</div>\n",
      "<hr/>\n",
      "<div class=\"pre-btn\">\n",
      "<a href=\"/python/python_strings.htm\"><i class=\"icon icon-arrow-circle-o-left big-font\"></i> Previous Page</a>\n",
      "</div>\n",
      "<div class=\"nxt-btn\">\n",
      "<a href=\"/python/python_strings.htm\">Next Page <i class=\"icon icon-arrow-circle-o-right big-font\"></i> </a>\n",
      "</div>\n",
      "<div class=\"clearer\"></div>\n",
      "<hr/>\n",
      "<h2>Description</h2>\n",
      "<p>The method <b>strip()</b> returns a copy of the string in which all chars have been stripped from the beginning and the end of the string (default whitespace characters).</p>\n",
      "<h2>Syntax</h2>\n",
      "<p>Following is the syntax for <b>strip()</b> method −</p>\n",
      "<pre class=\"result notranslate\">\n",
      "str.strip([chars]);\n",
      "</pre>\n",
      "<h2>Parameters</h2>\n",
      "<ul class=\"list\">\n",
      "<li><p><b>chars</b> − The characters to be removed from beginning or end of the string.</p></li>\n",
      "</ul>\n",
      "<h2>Return Value</h2>\n",
      "<p>This method returns a copy of the string in which all chars have been stripped from the beginning and the end of the string.</p>\n",
      "<h2>Example</h2>\n",
      "<p>The following example shows the usage of strip() method.</p>\n",
      "<pre class=\"prettyprint notranslate tryit\">\n",
      "#!/usr/bin/python\n",
      "\n",
      "str = \"0000000this is string example....wow!!!0000000\";\n",
      "print str.strip( '0' )\n",
      "</pre>\n",
      "<p>When we run above program, it produces following result −</p>\n",
      "<pre class=\"result notranslate\">\n",
      "this is string example....wow!!!\n",
      "</pre>\n",
      "<hr/>\n",
      "<div class=\"pre-btn\">\n",
      "<a href=\"/python/python_strings.htm\"><i class=\"icon icon-arrow-circle-o-left big-font\"></i> Previous Page</a>\n",
      "</div>\n",
      "<div class=\"print-btn center\">\n",
      "<a href=\"/cgi-bin/printpage.cgi\" target=\"_blank\"><i class=\"icon icon-print big-font\"></i> Print</a>\n",
      "</div>\n",
      "<div class=\"nxt-btn\">\n",
      "<a href=\"/python/python_strings.htm\">Next Page <i class=\"icon icon-arrow-circle-o-right big-font\"></i> </a>\n",
      "</div>\n",
      "<div class=\"parent-file\">python_strings.htm</div>\n",
      "<hr/>\n",
      "<!-- PRINTING ENDS HERE -->\n",
      "<div class=\"bottomgooglead\">\n",
      "<div class=\"bottomadtag\">Advertisements</div>\n",
      "<!-- /60931893/tutorial_bottom_leader_board -->\n",
      "<div id=\"div-gpt-ad-1510138782906-3\">\n",
      "<script>\n",
      "googletag.cmd.push(function() { googletag.display('div-gpt-ad-1510138782906-3'); });\n",
      "</script>\n",
      "</div>\n",
      "</div>\n",
      "</div>]\n"
     ]
    }
   ],
   "source": [
    "links=soup.find_all('div',{'class':'col-md-7 middle-col'})\n",
    "print(links)"
   ]
  },
  {
   "cell_type": "code",
   "execution_count": 102,
   "metadata": {},
   "outputs": [],
   "source": [
    "url='http://news.sina.com.cn/photo/fg/index.html'\n",
    "html=requests.get(url).text\n",
    "soup=BeautifulSoup(html,'lxml')"
   ]
  },
  {
   "cell_type": "code",
   "execution_count": 104,
   "metadata": {},
   "outputs": [
    {
     "name": "stdout",
     "output_type": "stream",
     "text": [
      "http://beacon.sina.com.cn/a.gif?noScript\n",
      "http://i1.sinaimg.cn/dy/images/header/2009/standardl2nav_sina_new.gif\n",
      "http://i1.sinaimg.cn/dy/images/header/2009/standardl2nav_news.gif\n",
      "http://i2.sinaimg.cn/dy/photo/class/news_tk_hz_001.jpg\n",
      "http://i0.sinaimg.cn/dy/photo/class/news_tk_hz_002.gif\n",
      "http://i0.sinaimg.cn/dy/photo/class/news_tk_hz_002.gif\n",
      "http://i0.sinaimg.cn/dy/photo/class/news_tk_hz_002.gif\n",
      "http://i0.sinaimg.cn/dy/photo/class/news_tk_hz_002.gif\n",
      "http://i0.sinaimg.cn/dy/photo/class/news_tk_hz_002.gif\n",
      "http://i0.sinaimg.cn/dy/photo/class/news_tk_hz_002.gif\n",
      "http://i0.sinaimg.cn/dy/photo/class/news_tk_hz_002.gif\n",
      "http://i0.sinaimg.cn/dy/photo/class/news_tk_hz_002.gif\n",
      "http://i0.sinaimg.cn/dy/photo/class/news_tk_hz_002.gif\n",
      "http://i0.sinaimg.cn/dy/photo/class/news_tk_hz_002.gif\n",
      "http://i0.sinaimg.cn/dy/photo/class/news_tk_hz_002.gif\n",
      "http://i0.sinaimg.cn/dy/photo/class/news_tk_hz_002.gif\n",
      "http://i0.sinaimg.cn/dy/photo/class/news_tk_hz_002.gif\n",
      "http://i0.sinaimg.cn/dy/photo/class/news_tk_hz_002.gif\n",
      "http://i2.sinaimg.cn/dy/photo/class/news_tk_hz_004.gif\n",
      "http://i3.sinaimg.cn/dy/temp/219/2010/0317/U2596P1T219D39970F4217DT20100317165432.jpg\n",
      "http://i3.sinaimg.cn/dy/temp/219/2010/0311/U1565P1T219D39927F4217DT20100311130345.jpg\n",
      "http://i0.sinaimg.cn/dy/temp/219/2010/0224/U2596P1T219D39807F4217DT20100224140808.jpg\n",
      "http://i2.sinaimg.cn/dy/temp/219/2010/0128/U2596P1T219D39642F4217DT20100128160759.jpg\n",
      "http://i0.sinaimg.cn/dy/temp/219/2010/0121/U2596P1T219D39594F4217DT20100121151524.jpg\n",
      "http://i0.sinaimg.cn/dy/temp/219/2010/0118/U2596P1T219D39573F4217DT20100118142208.jpg\n",
      "http://i1.sinaimg.cn/dy/temp/219/2010/0115/U2596P1T219D39567F4217DT20100115142114.jpg\n",
      "http://i3.sinaimg.cn/dy/temp/219/2010/0104/U2596P1T219D39487F4217DT20100104142254.jpg\n",
      "http://i3.sinaimg.cn/dy/temp/219/2010/0103/U2984P1T219D39478F4217DT20100103175316.jpg\n",
      "http://i3.sinaimg.cn/dy/temp/219/2009/1202/U2596P1T219D39254F4217DT20091202133753.jpg\n",
      "http://i2.sinaimg.cn/dy/temp/219/2009/1123/U2596P1T219D39201F4217DT20091123165759.jpg\n",
      "http://i1.sinaimg.cn/dy/temp/219/2009/1112/U2596P1T219D39126F4217DT20091112141039.jpg\n",
      "http://i2.sinaimg.cn/dy/temp/219/2009/1106/U1565P1T219D39086F4217DT20091106135624.jpg\n",
      "http://i0.sinaimg.cn/dy/temp/219/2009/1026/U1565P1T219D39012F4217DT20091026150824.jpg\n",
      "http://i2.sinaimg.cn/dy/temp/219/2009/0805/U2596P1T219D38479F4217DT20090805130436.jpg\n",
      "http://i2.sinaimg.cn/dy/393/2007/0508/U1565P1T393D16F8809DT20071218135424.jpg\n",
      "http://i2.sinaimg.cn/dy/393/2007/0508/U1565P1T393D16F8809DT20071218152047.jpg\n",
      "http://i2.sinaimg.cn/dy/393/2007/0508/U1565P1T393D16F8811DT20071218150453.jpg\n",
      "http://i1.sinaimg.cn/dy/393/2007/0508/U1565P1T393D16F8809DT20071218152316.jpg\n",
      "http://i1.sinaimg.cn/dy/393/2007/0508/U1565P1T393D16F8811DT20071218141254.jpg\n",
      "http://i1.sinaimg.cn/dy/393/2007/0508/U1565P1T393D16F8809DT20071218150453.jpg\n",
      "http://i2.sinaimg.cn/dy/393/2007/0508/U1565P1T393D16F8810DT20071218152047.jpg\n",
      "http://i2.sinaimg.cn/dy/393/2007/0508/U1565P1T393D16F8809DT20071218141832.jpg\n"
     ]
    }
   ],
   "source": [
    "imgs=soup.find_all('img')\n",
    "for i in imgs:\n",
    "    print(i['src'])"
   ]
  },
  {
   "cell_type": "code",
   "execution_count": 14,
   "metadata": {},
   "outputs": [],
   "source": [
    "url='https://www.pexels.com/search/summer/'\n",
    "html=requests.get(url).text\n",
    "soup=BeautifulSoup(html,'lxml')"
   ]
  },
  {
   "cell_type": "code",
   "execution_count": 15,
   "metadata": {},
   "outputs": [],
   "source": [
    "imgs=soup.find_all('a',{'class':'js-photo-link'})\n",
    "for i in imgs:\n",
    "    img=i.find('img')['src']\n",
    "    img_name=img.split('/')[-1]\n",
    "    with open('./pics/%s' %img_name,'wb') as f:\n",
    "        f.write(requests.get(img).content)"
   ]
  },
  {
   "cell_type": "code",
   "execution_count": 22,
   "metadata": {},
   "outputs": [
    {
     "data": {
      "text/plain": [
       "'https://images.pexels.com/photos/46710/pexels-photo-46710.jpeg?h=350&auto=compress&cs=tinysrgb'"
      ]
     },
     "execution_count": 22,
     "metadata": {},
     "output_type": "execute_result"
    }
   ],
   "source": [
    "imgs[0].find('img')['src']"
   ]
  },
  {
   "cell_type": "code",
   "execution_count": 21,
   "metadata": {},
   "outputs": [
    {
     "data": {
      "text/plain": [
       "'pexels-photo-46710.jpeg?h=350&auto=compress&cs=tinysrgb'"
      ]
     },
     "execution_count": 21,
     "metadata": {},
     "output_type": "execute_result"
    }
   ],
   "source": [
    "imgs[0].find('img')['src'].split('/')[-1]"
   ]
  },
  {
   "cell_type": "code",
   "execution_count": 3,
   "metadata": {},
   "outputs": [],
   "source": [
    "url='http://news.sina.com.cn/o/2018-03-13/doc-ifysfhuk3398918.shtml'\n",
    "html=requests.get(url).text\n",
    "soup=BeautifulSoup(html,'lxml')"
   ]
  },
  {
   "cell_type": "code",
   "execution_count": 12,
   "metadata": {},
   "outputs": [
    {
     "name": "stdout",
     "output_type": "stream",
     "text": [
      "ããåæ é¢ï¼ç¾ä¼é¢æ",
      "æ¥å§ï¼æ è¯æ®æ¾ç¤ºç¹ææ®éµè¥âéä¿âã\n",
      "ããä¸­æ°ç½3æ13æ¥çµ ç»¼åæ¥éï¼12æ¥ï¼ç¾å½å",
      "±åå",
      "å å¤æ°çä¼è®®é¢æ",
      "æ¥å§åä¼å®£å¸ï¼ä»ä»¬ç»æäºå¯¹æå",
      "³ä¿ç½æ¯æ¶å«å¹²æ¶ç¾å½æ»ç»éä¸¾çè°æ¥ï¼ç§°åæ­¥è°æ¥ç»ææ¾ç¤ºï¼å¹¶æ è¯æ®è¯æç¹ææ®éµè¥ä¸ä¿æ¹å­å¨âå¾ç»ãåè°æå",
      "±è°âã\n",
      "ããä¼é¢æ",
      "æ¥å§åä¼ä¸»å¸­åªæ©æ¯å¨ä¸ä»½æ°é»ç¨¿ä¸­ç§°ï¼å§åä¼å·²ç»å®æäºæ¶ä¿è°æ¥ï¼å¹¶å°å®æä»ä»¬çæ¥åãç¾åªæ´å¼å½ä¼è®®åçè¯ç§°ï¼âæä»¬ä¸è½å¾åºä¸­æ",
      "å±çç»è®ºï¼ä»ä»¬ï¼ä¿ç½æ¯äººï¼ç¹å«æ³ä»¥æç§æ¹å¼å¸®å©ç¹ææ®ãâ\n",
      "ããå§åä¼çæ°ä¸»å",
      "æåå¯¹è¿ä¸ç»è®ºè¡¨ç¤ºä¸æ»¡ï¼äºå½Â·å¸å¤«å¨ç¤¾äº¤ç½ç«ä¸ç§°ï¼å§åä¼çæ°ä¸»å",
      "äººå°ç»§ç»­è¿è¡ä»ä»¬çè°æ¥ã\n",
      "ããç¾èé¦è°æ¥å±åå½ä¼æ­£å¨å°±æå",
      "³ä¿ç½æ¯âå¹²æ¶ç¾å½éä¸¾âçææ§è¿è¡è°æ¥ï¼ç½å®«åå",
      "å®«é½å¯¹æ­¤äºä»¥å¦è®¤ãç½ä¼¯ç¹âç©åè¢«ä»»å½ä¸ºè°æ¥ç¹å«æ£å¯å®ï¼ä»æ­¤åå¯¹13åä¿ç½æ¯å",
      "¬æ°åä¸å®¶ä¿å",
      "¬å¸æåºäºè¯å¾å¹²é¢ç¾å½éä¸¾çææ§ã\n",
      "ããä¿ç½æ¯å¤æ¬¡å¦è®¤æå",
      "³å¹²æ¶ç¾å½éä¸¾çææ§ï¼ä¿æ»ç»æ°é»ç§ä¹¦å¾·ç±³ç¹éâä½©æ¯ç§å¤«ç§°è¿äºææ§æ¯«æ ä¾æ®ã\n",
      "è´£ä»»ç¼è¾ï¼åææ",
      "§\n"
     ]
    }
   ],
   "source": [
    "links=soup.find('div',{'class':'article'})\n",
    "a=links.find_all('p')\n",
    "for i in a:\n",
    "    print(i.text.strip())"
   ]
  },
  {
   "cell_type": "code",
   "execution_count": 5,
   "metadata": {},
   "outputs": [
    {
     "name": "stdout",
     "output_type": "stream",
     "text": [
      "http://www.allitebooks.com/page/2/\n",
      "['Building Intelligent Systems', 'The Definitive Guide to CentOS', 'Mastering Mobile Test Automation', 'R Projects For Dummies', 'Business Case Analysis with R', 'Beginning Entity Framework Core 2.0', 'Practical Python AI Projects', 'Kotlin in Action', 'Android App Development For Dummies, 3rd Edition', 'SUSE Linux 9.3 For Dummies']\n",
      "10\n"
     ]
    }
   ],
   "source": [
    "from bs4 import BeautifulSoup\n",
    "import requests\n",
    "import re\n",
    "\n",
    "\n",
    "book_links=[]\n",
    "book_libraries=[]\n",
    "for n in range(2,3):\n",
    "    url='http://www.allitebooks.com/page/%s/'%n\n",
    "    print(url)\n",
    "    html=requests.get(url).text\n",
    "    soup=BeautifulSoup(html,'lxml')\n",
    "    #print(soup)\n",
    "    links=soup.find_all('div',{'class':'entry-body'})\n",
    "\n",
    "    for i in links:\n",
    "        book_urls=i.find('a')['href']\n",
    "        book_names=i.find('a',{'rel':'bookmark'}).text.strip()\n",
    "        book_links.append(book_urls)\n",
    "        book_libraries.append(book_names)\n",
    "    \n",
    "print(book_libraries)\n",
    "print(len(book_libraries))\n",
    "\n",
    "for m in book_links:\n",
    "    html=requests.get('%s'%m).text\n",
    "    soup=BeautifulSoup(html,'lxml')\n",
    "    links=soup.find('span',{'class':'download-links'})\n",
    "    a=links.find('a')['href']\n",
    "    name=m.split('/')[-2]\n",
    "    with open('./books_download/%s' %name,'wb') as f:\n",
    "        f.write(requests.get(a).content)"
   ]
  },
  {
   "cell_type": "code",
   "execution_count": null,
   "metadata": {},
   "outputs": [],
   "source": []
  }
 ],
 "metadata": {
  "kernelspec": {
   "display_name": "Python 3",
   "language": "python",
   "name": "python3"
  },
  "language_info": {
   "codemirror_mode": {
    "name": "ipython",
    "version": 3
   },
   "file_extension": ".py",
   "mimetype": "text/x-python",
   "name": "python",
   "nbconvert_exporter": "python",
   "pygments_lexer": "ipython3",
   "version": "3.5.2"
  }
 },
 "nbformat": 4,
 "nbformat_minor": 2
}
